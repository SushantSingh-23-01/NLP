{
 "cells": [
  {
   "cell_type": "markdown",
   "metadata": {},
   "source": [
    "## Cosine Similarity "
   ]
  },
  {
   "attachments": {
    "image.png": {
     "image/png": "[encoded data removed]"
    }
   },
   "cell_type": "markdown",
   "metadata": {},
   "source": [
    "![image.png](attachment:image.png)"
   ]
  },
  {
   "cell_type": "markdown",
   "metadata": {},
   "source": [
    "#### Between 1 dimensional matrices or for single token embeddings"
   ]
  },
  {
   "cell_type": "markdown",
   "metadata": {},
   "source": [
    "Let each token be represented by 'E' embedding vectors (e.g. 5 in case below), we calculate cosine simialrity and observe the results."
   ]
  },
  {
   "cell_type": "code",
   "execution_count": 1,
   "metadata": {},
   "outputs": [],
   "source": [
    "import torch"
   ]
  },
  {
   "cell_type": "code",
   "execution_count": 2,
   "metadata": {},
   "outputs": [
    {
     "name": "stdout",
     "output_type": "stream",
     "text": [
      "tensor([ 0.2529, -1.2352, -0.1684,  0.2056, -0.0381]) tensor([-0.2762,  0.0028,  0.2351, -1.5043, -0.0251])\n"
     ]
    }
   ],
   "source": [
    "x1 = torch.randn(1,5).flatten()\n",
    "x2 = torch.randn(1,5).flatten()\n",
    "print(x1,x2)"
   ]
  },
  {
   "cell_type": "markdown",
   "metadata": {},
   "source": [
    "`Caution`: Keep check of tensor dimensions, randn gives 2-d tensor, so use flatten() to get 1-d tensor."
   ]
  },
  {
   "cell_type": "code",
   "execution_count": 3,
   "metadata": {},
   "outputs": [
    {
     "name": "stdout",
     "output_type": "stream",
     "text": [
      "tensor(-0.4213)\n"
     ]
    }
   ],
   "source": [
    "x1x2 = torch.dot(x1.squeeze(),x2.squeeze())\n",
    "print(x1x2)"
   ]
  },
  {
   "cell_type": "code",
   "execution_count": 4,
   "metadata": {},
   "outputs": [
    {
     "data": {
      "text/plain": [
       "tensor(1.9951)"
      ]
     },
     "execution_count": 4,
     "metadata": {},
     "output_type": "execute_result"
    }
   ],
   "source": [
    "den = torch.norm(x1,dim=0)*torch.norm(x2,dim=0)\n",
    "den"
   ]
  },
  {
   "cell_type": "code",
   "execution_count": 5,
   "metadata": {},
   "outputs": [
    {
     "data": {
      "text/plain": [
       "tensor(-0.2112)"
      ]
     },
     "execution_count": 5,
     "metadata": {},
     "output_type": "execute_result"
    }
   ],
   "source": [
    "score = x1x2 / den\n",
    "score"
   ]
  },
  {
   "cell_type": "markdown",
   "metadata": {},
   "source": [
    "Verifying in numpy"
   ]
  },
  {
   "cell_type": "code",
   "execution_count": 6,
   "metadata": {},
   "outputs": [
    {
     "data": {
      "text/plain": [
       "-0.21117093"
      ]
     },
     "execution_count": 6,
     "metadata": {},
     "output_type": "execute_result"
    }
   ],
   "source": [
    "import numpy as np\n",
    "np.dot(x1.numpy(),x2.numpy()) / ( np.linalg.norm(x1.numpy()) * np.linalg.norm(x2.numpy()) )"
   ]
  },
  {
   "cell_type": "markdown",
   "metadata": {},
   "source": [
    "Using direct implementation in Pytorch<br>\n",
    "<br>https://pytorch.org/docs/stable/generated/torch.nn.CosineSimilarity.html <br>\n",
    "- `dim` (int, optional) – Dimension where cosine similarity is computed. Default: 1.\n",
    "- `eps` (float, optional) – Small value to avoid division by zero. Default: 1e-8."
   ]
  },
  {
   "cell_type": "code",
   "execution_count": 7,
   "metadata": {},
   "outputs": [],
   "source": [
    "cos = torch.nn.CosineSimilarity(dim=-1)"
   ]
  },
  {
   "cell_type": "code",
   "execution_count": 8,
   "metadata": {},
   "outputs": [
    {
     "name": "stdout",
     "output_type": "stream",
     "text": [
      "tensor(-0.2112)\n"
     ]
    }
   ],
   "source": [
    "output = cos(x1,x2)\n",
    "print(output)"
   ]
  },
  {
   "cell_type": "markdown",
   "metadata": {},
   "source": [
    "`Observation 1`: for 1 dimesional matrix (that is one token/word for word level embeddings) we will get one score value irrespective of embedding size.<br>\n",
    "*shape(cos_sim) for 1xE and 1xE matrices is 1x1.*"
   ]
  },
  {
   "cell_type": "markdown",
   "metadata": {},
   "source": [
    "### Between multiple tokens embed vectors"
   ]
  },
  {
   "cell_type": "markdown",
   "metadata": {},
   "source": [
    "We now consider multiple tokens (3 in case below). Now our size increases to 3x5."
   ]
  },
  {
   "cell_type": "code",
   "execution_count": 9,
   "metadata": {},
   "outputs": [
    {
     "name": "stdout",
     "output_type": "stream",
     "text": [
      "tensor([[ 0.1605, -0.1976,  0.7486, -0.9748, -0.3268],\n",
      "        [ 1.2063,  1.5380,  0.4492,  0.3619, -0.6589],\n",
      "        [ 0.0809,  0.4931, -0.1440,  1.7738,  1.2533]])\n",
      "tensor([[ 0.3088, -0.4771, -1.1066,  1.1779, -1.1083],\n",
      "        [ 0.6225, -0.1443,  0.0154,  1.9311,  0.1449],\n",
      "        [ 1.9074,  0.5856,  0.9995, -1.0327, -0.3269]])\n"
     ]
    }
   ],
   "source": [
    "x1 = torch.randn(3,5)\n",
    "x2 = torch.randn(3,5)\n",
    "print(f'{x1}\\n{x2}')"
   ]
  },
  {
   "cell_type": "code",
   "execution_count": 10,
   "metadata": {},
   "outputs": [
    {
     "name": "stdout",
     "output_type": "stream",
     "text": [
      "Cosine Similarity : tensor([-0.5556,  0.2608, -0.3506])\n"
     ]
    }
   ],
   "source": [
    "output = cos(x1,x2)\n",
    "print(f'Cosine Similarity : {output}')"
   ]
  },
  {
   "cell_type": "markdown",
   "metadata": {},
   "source": [
    "Its always good idea when learning to cross check manually."
   ]
  },
  {
   "cell_type": "code",
   "execution_count": 11,
   "metadata": {},
   "outputs": [
    {
     "data": {
      "text/plain": [
       "tensor([-0.5556,  0.2608, -0.3506])"
      ]
     },
     "execution_count": 11,
     "metadata": {},
     "output_type": "execute_result"
    }
   ],
   "source": [
    "score = []\n",
    "for i in range(x1.size(0)):\n",
    "    x1x2 = torch.dot(x1[i],x2[i])\n",
    "    den = torch.norm(x1[i],dim=0)*torch.norm(x2[i],dim=0)\n",
    "    score.append(x1x2/den)\n",
    "score = torch.stack(score)\n",
    "score"
   ]
  },
  {
   "cell_type": "markdown",
   "metadata": {},
   "source": [
    "`Observation` :  For 3 tokens we get 3 scores which is expected.\n",
    "<br> *But there seems to be few problems :*\n",
    "- We are calculating similarity order wise or along indices of sequences. This leads to problem that sentences with words having similar meaning at different positions in sentences will result in lower similarities.\n",
    "-  We want a single similarity score at the end rather than matrix of similarities."
   ]
  },
  {
   "cell_type": "markdown",
   "metadata": {},
   "source": [
    "#### Problem 1"
   ]
  },
  {
   "cell_type": "markdown",
   "metadata": {},
   "source": [
    "Rather than 3x1 similarity matrix we would like to calculate similarities between each word of both sequences. That is we would require a matrix of size 3x3."
   ]
  },
  {
   "cell_type": "markdown",
   "metadata": {},
   "source": [
    "https://pytorch.org/docs/stable/generated/torch.dot.html"
   ]
  },
  {
   "cell_type": "code",
   "execution_count": 12,
   "metadata": {},
   "outputs": [
    {
     "name": "stdout",
     "output_type": "stream",
     "text": [
      "doc1 <-> doc2\n",
      "tok0 <-> tok0 | Cosine Similarity : -0.555626\n",
      "tok0 <-> tok1 | Cosine Similarity : -0.676687\n",
      "tok0 <-> tok2 | Cosine Similarity : 0.637864\n",
      "tok1 <-> tok0 | Cosine Similarity : 0.068217\n",
      "tok1 <-> tok1 | Cosine Similarity : 0.260845\n",
      "tok1 <-> tok2 | Cosine Similarity : 0.657279\n",
      "tok2 <-> tok0 | Cosine Similarity : 0.142489\n",
      "tok2 <-> tok1 | Cosine Similarity : 0.786926\n",
      "tok2 <-> tok2 | Cosine Similarity : -0.350599\n"
     ]
    },
    {
     "data": {
      "text/plain": [
       "tensor([[-0.5556, -0.6767,  0.6379],\n",
       "        [ 0.0682,  0.2608,  0.6573],\n",
       "        [ 0.1425,  0.7869, -0.3506]])"
      ]
     },
     "execution_count": 12,
     "metadata": {},
     "output_type": "execute_result"
    }
   ],
   "source": [
    "score = []\n",
    "print('doc1 <-> doc2')\n",
    "for i in range(x1.size(0)):\n",
    "    for j in range(x1.size(0)):\n",
    "        score.append(cos(x1[i],x2[j]))\n",
    "        print(f'tok{i} <-> tok{j} | Cosine Similarity : {cos(x1[i],x2[j]):0.6f}')\n",
    "score = torch.stack(score).reshape(3,3)\n",
    "score\n"
   ]
  },
  {
   "cell_type": "markdown",
   "metadata": {},
   "source": [
    "#### Problem 2"
   ]
  },
  {
   "cell_type": "markdown",
   "metadata": {},
   "source": [
    "Reference Links: \n",
    "- https://www.baeldung.com/cs/sentence-vectors-word2vec"
   ]
  },
  {
   "cell_type": "markdown",
   "metadata": {},
   "source": [
    "##### Approach 1 : Taking Mean of embeddings for each token in sequence"
   ]
  },
  {
   "cell_type": "code",
   "execution_count": 13,
   "metadata": {},
   "outputs": [
    {
     "data": {
      "text/plain": [
       "tensor(0.9615)"
      ]
     },
     "execution_count": 13,
     "metadata": {},
     "output_type": "execute_result"
    }
   ],
   "source": [
    "cos(x1.mean(dim=1),x2.mean(dim=1))"
   ]
  },
  {
   "cell_type": "markdown",
   "metadata": {},
   "source": [
    "Other approaches that are mentioned in the article, I would implement them with real text data to get better intuition."
   ]
  }
 ],
 "metadata": {
  "kernelspec": {
   "display_name": "NLP",
   "language": "python",
   "name": "python3"
  },
  "language_info": {
   "codemirror_mode": {
    "name": "ipython",
    "version": 3
   },
   "file_extension": ".py",
   "mimetype": "text/x-python",
   "name": "python",
   "nbconvert_exporter": "python",
   "pygments_lexer": "ipython3",
   "version": "3.11.6"
  }
 },
 "nbformat": 4,
 "nbformat_minor": 2
}

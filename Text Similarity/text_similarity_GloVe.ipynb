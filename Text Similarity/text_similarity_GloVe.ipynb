{
 "cells": [
  {
   "cell_type": "markdown",
   "metadata": {},
   "source": [
    "# Text Similarity Using GloVe"
   ]
  },
  {
   "cell_type": "markdown",
   "metadata": {},
   "source": [
    "## 1. Loading and Preprocessing Text "
   ]
  },
  {
   "cell_type": "code",
   "execution_count": 1,
   "metadata": {},
   "outputs": [],
   "source": [
    "documents = [\n",
    "    'He was in need of some cash.',\n",
    "    'He withdrew money from the bank.',\n",
    "    'She bought groceries from market.',\n",
    "    \"He went by the river bank and slept under a tree.\",\n",
    "    'The painter painted a beautiful picture of the bank',\n",
    "    'He slept by the bank.',\n",
    "    'People were protesting infront of the bank.',\n",
    "    'He was studying at the school.'\n",
    "]"
   ]
  },
  {
   "cell_type": "code",
   "execution_count": 2,
   "metadata": {},
   "outputs": [],
   "source": [
    "import re\n",
    "def preprocess(docs:list):\n",
    "    \n",
    "    res = []\n",
    "    for i in docs:\n",
    "        i = i.lower()\n",
    "        res.append(re.sub(r'[^\\w\\s]', ' ', i)) # Remove punctuations\n",
    "\n",
    "    return res"
   ]
  },
  {
   "cell_type": "code",
   "execution_count": 3,
   "metadata": {},
   "outputs": [
    {
     "data": {
      "text/plain": [
       "['he was in need of some cash ',\n",
       " 'he withdrew money from the bank ',\n",
       " 'she bought groceries from market ',\n",
       " 'he went by the river bank and slept under a tree ',\n",
       " 'the painter painted a beautiful picture of the bank',\n",
       " 'he slept by the bank ',\n",
       " 'people were protesting infront of the bank ',\n",
       " 'he was studying at the school ']"
      ]
     },
     "execution_count": 3,
     "metadata": {},
     "output_type": "execute_result"
    }
   ],
   "source": [
    "documents = preprocess(documents)\n",
    "documents"
   ]
  },
  {
   "cell_type": "markdown",
   "metadata": {},
   "source": [
    "## 2. Exploring Word Vectors with GloVe"
   ]
  },
  {
   "cell_type": "code",
   "execution_count": 4,
   "metadata": {},
   "outputs": [],
   "source": [
    "import torch\n",
    "import torchtext.vocab as vocab\n",
    "import torchtext"
   ]
  },
  {
   "cell_type": "markdown",
   "metadata": {},
   "source": [
    "### 2.1 Loading word vectors"
   ]
  },
  {
   "cell_type": "code",
   "execution_count": 5,
   "metadata": {},
   "outputs": [
    {
     "name": "stdout",
     "output_type": "stream",
     "text": [
      "Loaded 400000 words\n"
     ]
    }
   ],
   "source": [
    "glove = vocab.GloVe(name='6B', dim=100)\n",
    "\n",
    "print('Loaded {} words'.format(len(glove.itos)))"
   ]
  },
  {
   "cell_type": "markdown",
   "metadata": {},
   "source": [
    "\n",
    "\n",
    "The returned GloVe object includes attributes:\n",
    "\n",
    "- `stoi` string-to-index returns a dictionary of words to indexes\n",
    "- `itos` index-to-string returns an array of words by index\n",
    "- `vectors` returns the actual vectors. To get a word vector get the index to get the vector:\n",
    "\n"
   ]
  },
  {
   "cell_type": "code",
   "execution_count": 6,
   "metadata": {},
   "outputs": [],
   "source": [
    "def get_word(word):\n",
    "    return glove.vectors[glove.stoi[word]]\n"
   ]
  },
  {
   "cell_type": "markdown",
   "metadata": {},
   "source": [
    "### 2.2 Finding closest vectors"
   ]
  },
  {
   "cell_type": "markdown",
   "metadata": {},
   "source": [
    "Going from word → vector is easy enough, but to go from vector → word takes more work. Here I'm (naively) calculating the distance for each word in the vocabulary, and sorting based on that distance:"
   ]
  },
  {
   "cell_type": "code",
   "execution_count": 7,
   "metadata": {},
   "outputs": [],
   "source": [
    "def closest(vec, n=5):\n",
    "    \"\"\"\n",
    "    Find the closest words for a given vector\n",
    "    \"\"\"\n",
    "    all_dists = [(w, torch.dist(vec, get_word(w))) for w in glove.itos]\n",
    "    return sorted(all_dists, key=lambda t: t[1])[:n]"
   ]
  },
  {
   "cell_type": "code",
   "execution_count": 8,
   "metadata": {},
   "outputs": [],
   "source": [
    "def get_closest(vec,k=5,d= -1):\n",
    "    cos = torch.nn.CosineSimilarity(dim = d)\n",
    "    out = []\n",
    "    for word in glove.itos:\n",
    "        out.append(cos(get_word(vec),get_word(word)))  \n",
    "    out = torch.stack(out)  \n",
    "    word = [glove.itos[i] for i in torch.topk(out,k).indices]\n",
    "    value = [i for i in torch.topk(out,k).values]\n",
    "    return word, value"
   ]
  },
  {
   "cell_type": "code",
   "execution_count": 9,
   "metadata": {},
   "outputs": [],
   "source": [
    "word, value = get_closest('google',k=5,d= -1)"
   ]
  },
  {
   "cell_type": "code",
   "execution_count": 10,
   "metadata": {},
   "outputs": [
    {
     "name": "stdout",
     "output_type": "stream",
     "text": [
      "google-->1.0000\n",
      "yahoo-->0.8637\n",
      "microsoft-->0.8104\n",
      "web-->0.7630\n",
      "aol-->0.7572\n"
     ]
    }
   ],
   "source": [
    "for i in range(5):\n",
    "    print(f'{word[i]}-->{value[i]:.4f}')"
   ]
  },
  {
   "cell_type": "code",
   "execution_count": 11,
   "metadata": {},
   "outputs": [],
   "source": [
    "def print_tuples(tuples):\n",
    "    for tuple in tuples:\n",
    "        print(f'({tuple[1]:.4f}) {tuple[0]}')"
   ]
  },
  {
   "cell_type": "code",
   "execution_count": 12,
   "metadata": {},
   "outputs": [
    {
     "name": "stdout",
     "output_type": "stream",
     "text": [
      "(0.0000) google\n",
      "(3.0772) yahoo\n",
      "(3.8836) microsoft\n",
      "(4.1048) web\n",
      "(4.1082) aol\n"
     ]
    }
   ],
   "source": [
    "print_tuples(closest(get_word('google')))"
   ]
  },
  {
   "cell_type": "markdown",
   "metadata": {},
   "source": [
    "### 2.3 Word analogies with vector arithmetic"
   ]
  },
  {
   "cell_type": "code",
   "execution_count": 13,
   "metadata": {},
   "outputs": [],
   "source": [
    "# In the form w1 : w2 :: w3 : ?\n",
    "def analogy(w1, w2, w3, n=5, filter_given=True):\n",
    "    print(f'[{w1} : {w2} :: {w3} : ?]')\n",
    "   \n",
    "    # w2 - w1 + w3 = w4\n",
    "    closest_words = closest(get_word(w2) - get_word(w1) + get_word(w3))\n",
    "    \n",
    "    # Optionally filter out given words\n",
    "    if filter_given:\n",
    "        closest_words = [t for t in closest_words if t[0] not in [w1, w2, w3]]\n",
    "        \n",
    "    print_tuples(closest_words[:n])"
   ]
  },
  {
   "cell_type": "code",
   "execution_count": 14,
   "metadata": {},
   "outputs": [
    {
     "name": "stdout",
     "output_type": "stream",
     "text": [
      "[king : man :: queen : ?]\n",
      "(4.0811) woman\n",
      "(4.6916) girl\n",
      "(5.2703) she\n",
      "(5.2788) teenager\n"
     ]
    }
   ],
   "source": [
    "analogy('king', 'man', 'queen')"
   ]
  },
  {
   "cell_type": "code",
   "execution_count": 15,
   "metadata": {},
   "outputs": [
    {
     "name": "stdout",
     "output_type": "stream",
     "text": [
      "[man : doctor :: woman : ?]\n",
      "(4.2283) nurse\n",
      "(4.7054) physician\n",
      "(4.9699) dentist\n"
     ]
    }
   ],
   "source": [
    "analogy('man','doctor','woman')"
   ]
  },
  {
   "cell_type": "code",
   "execution_count": 16,
   "metadata": {},
   "outputs": [
    {
     "name": "stdout",
     "output_type": "stream",
     "text": [
      "[man : engineer :: woman : ?]\n",
      "(4.6912) technician\n",
      "(5.2088) educator\n",
      "(5.2372) contractor\n",
      "(5.2676) surgeon\n"
     ]
    }
   ],
   "source": [
    "analogy('man','engineer','woman')"
   ]
  },
  {
   "cell_type": "markdown",
   "metadata": {},
   "source": [
    "### 2.4 Sentence Embeddings"
   ]
  },
  {
   "cell_type": "code",
   "execution_count": 17,
   "metadata": {},
   "outputs": [],
   "source": [
    "tokenizer = torchtext.data.get_tokenizer('basic_english')  "
   ]
  },
  {
   "cell_type": "code",
   "execution_count": 18,
   "metadata": {},
   "outputs": [],
   "source": [
    "sent1 = documents[0]\n",
    "sent2 = documents[2]"
   ]
  },
  {
   "cell_type": "code",
   "execution_count": 19,
   "metadata": {},
   "outputs": [
    {
     "data": {
      "text/plain": [
       "'he was in need of some cash '"
      ]
     },
     "execution_count": 19,
     "metadata": {},
     "output_type": "execute_result"
    }
   ],
   "source": [
    "documents[0]"
   ]
  },
  {
   "cell_type": "code",
   "execution_count": 20,
   "metadata": {},
   "outputs": [],
   "source": [
    "cos = torch.nn.CosineSimilarity()"
   ]
  },
  {
   "cell_type": "code",
   "execution_count": 21,
   "metadata": {},
   "outputs": [],
   "source": [
    "x1 = []\n",
    "for word in sent1.split():\n",
    "    x1.append(get_word(word))\n",
    "x1 = torch.stack(x1)"
   ]
  },
  {
   "cell_type": "code",
   "execution_count": 22,
   "metadata": {},
   "outputs": [],
   "source": [
    "x2 = []\n",
    "for word in sent2.split():\n",
    "    x2.append(get_word(word))\n",
    "x2 = torch.stack(x2)"
   ]
  },
  {
   "cell_type": "code",
   "execution_count": 23,
   "metadata": {},
   "outputs": [
    {
     "data": {
      "text/plain": [
       "(torch.Size([7, 100]), torch.Size([5, 100]))"
      ]
     },
     "execution_count": 23,
     "metadata": {},
     "output_type": "execute_result"
    }
   ],
   "source": [
    "x1.shape,x2.shape"
   ]
  },
  {
   "cell_type": "markdown",
   "metadata": {},
   "source": [
    "Here we get scores with shape : *(num_tokens)* x *(embedding)*.<br>\n",
    "Since we need a single score for entire sequence, a quick fix can be taking mean along embbeding dimension.<br><br>\n",
    "For other methods refer : https://www.baeldung.com/cs/sentence-vectors-word2vec"
   ]
  },
  {
   "cell_type": "code",
   "execution_count": 24,
   "metadata": {},
   "outputs": [],
   "source": [
    "y1 = torch.mean(x1,1)\n",
    "y2 = torch.mean(x2,1)"
   ]
  },
  {
   "cell_type": "markdown",
   "metadata": {},
   "source": [
    "Applying padding since sequence are not of same lenghts."
   ]
  },
  {
   "cell_type": "code",
   "execution_count": 25,
   "metadata": {},
   "outputs": [],
   "source": [
    "pad = (0,(len(x2)-len(x1)))\n",
    "y1 = torch.nn.functional.pad(y1, pad, \"constant\", 0)"
   ]
  },
  {
   "cell_type": "code",
   "execution_count": 26,
   "metadata": {},
   "outputs": [
    {
     "data": {
      "text/plain": [
       "torch.Size([5])"
      ]
     },
     "execution_count": 26,
     "metadata": {},
     "output_type": "execute_result"
    }
   ],
   "source": [
    "y1.shape"
   ]
  },
  {
   "cell_type": "code",
   "execution_count": 27,
   "metadata": {},
   "outputs": [
    {
     "data": {
      "text/plain": [
       "tensor(0.0122)"
      ]
     },
     "execution_count": 27,
     "metadata": {},
     "output_type": "execute_result"
    }
   ],
   "source": [
    "cos = torch.nn.CosineSimilarity(dim=-1)\n",
    "cos(y1,y2)"
   ]
  },
  {
   "cell_type": "code",
   "execution_count": 28,
   "metadata": {},
   "outputs": [],
   "source": [
    "def scores(docs:list):\n",
    "    temp = []\n",
    "    for i in range(0,len(docs)):\n",
    "        for j in range(0,len(docs)):\n",
    "            x1 = torch.stack([get_word(word) for word in docs[i].split()]).mean(dim=1) \n",
    "            x2 = torch.stack([get_word(word) for word in docs[j].split()]).mean(dim=1)\n",
    "            if len(x2) > len(x1):\n",
    "                pad = (0,len(x2)-len(x1))\n",
    "                x1 = torch.nn.functional.pad(x1, pad, \"constant\", 0)\n",
    "            else:\n",
    "                pad = (0,len(x1)-len(x2))\n",
    "                x2 = torch.nn.functional.pad(x2, pad, \"constant\", 0)\n",
    "            \n",
    "            cos = torch.nn.CosineSimilarity(dim=-1)\n",
    "            temp.append(cos(x1,x2))\n",
    "            score = torch.stack(temp)\n",
    "    return score"
   ]
  },
  {
   "cell_type": "code",
   "execution_count": 29,
   "metadata": {},
   "outputs": [],
   "source": [
    "score = scores(documents).reshape(len(documents),len(documents)).numpy()"
   ]
  },
  {
   "cell_type": "code",
   "execution_count": 30,
   "metadata": {},
   "outputs": [
    {
     "data": {
      "text/plain": [
       "(8, 8)"
      ]
     },
     "execution_count": 30,
     "metadata": {},
     "output_type": "execute_result"
    }
   ],
   "source": [
    "score.shape"
   ]
  },
  {
   "cell_type": "markdown",
   "metadata": {},
   "source": [
    "### 2.5 Plotting results"
   ]
  },
  {
   "cell_type": "code",
   "execution_count": 31,
   "metadata": {},
   "outputs": [
    {
     "data": {
      "image/png": "[encoded data removed]",
      "text/plain": [
       "<Figure size 640x480 with 2 Axes>"
      ]
     },
     "metadata": {},
     "output_type": "display_data"
    }
   ],
   "source": [
    "import seaborn as sns\n",
    "import matplotlib.pyplot as plt\n",
    "\n",
    "sns.heatmap(score, annot=True, cmap=\"YlGnBu\")\n",
    "plt.show()"
   ]
  },
  {
   "cell_type": "markdown",
   "metadata": {},
   "source": [
    "Conclusion : Results seem to quite bad with averaging the mean across the embedding dimension, other methods can be used to imporve the results. "
   ]
  }
 ],
 "metadata": {
  "kernelspec": {
   "display_name": "NLP",
   "language": "python",
   "name": "python3"
  },
  "language_info": {
   "codemirror_mode": {
    "name": "ipython",
    "version": 3
   },
   "file_extension": ".py",
   "mimetype": "text/x-python",
   "name": "python",
   "nbconvert_exporter": "python",
   "pygments_lexer": "ipython3",
   "version": "3.11.6"
  }
 },
 "nbformat": 4,
 "nbformat_minor": 2
}
